{
 "cells": [
  {
   "cell_type": "code",
   "execution_count": 2,
   "metadata": {
    "collapsed": true,
    "pycharm": {
     "name": "#%%\n"
    }
   },
   "outputs": [],
   "source": [
    "import numpy as np\n",
    "import pandas as pd\n",
    "import os"
   ]
  },
  {
   "cell_type": "code",
   "execution_count": 16,
   "outputs": [],
   "source": [
    "#2019 Data\n",
    "url = 'https://www2.census.gov/programs-surveys/susb/tables/2019/county_3digitnaics_2019.xlsx'\n",
    "susb = pd.read_excel(url,skiprows=2)"
   ],
   "metadata": {
    "collapsed": false,
    "pycharm": {
     "name": "#%%\n"
    }
   }
  },
  {
   "cell_type": "code",
   "execution_count": 17,
   "outputs": [],
   "source": [
    "susb.columns = susb.columns.str.replace(' ','_')"
   ],
   "metadata": {
    "collapsed": false,
    "pycharm": {
     "name": "#%%\n"
    }
   }
  },
  {
   "cell_type": "code",
   "execution_count": 21,
   "outputs": [
    {
     "data": {
      "text/plain": "        State State_Name  County         County_Name NAICS  \\\n447995     51   Virginia       1            Accomack    --   \n447996     51   Virginia       1            Accomack    --   \n447997     51   Virginia       1            Accomack    --   \n447998     51   Virginia       1            Accomack    --   \n447999     51   Virginia       1            Accomack    --   \n...       ...        ...     ...                 ...   ...   \n468141     51   Virginia     999  Statewide Virginia    81   \n468142     51   Virginia     999  Statewide Virginia   811   \n468143     51   Virginia     999  Statewide Virginia   811   \n468144     51   Virginia     999  Statewide Virginia   813   \n468145     51   Virginia     999  Statewide Virginia   813   \n\n                                        NAICS_Description  \\\n447995                                              Total   \n447996                                              Total   \n447997                                              Total   \n447998                                              Total   \n447999                                              Total   \n...                                                   ...   \n468141      Other Services (except Public Administration)   \n468142                             Repair and Maintenance   \n468143                             Repair and Maintenance   \n468144  Religious, Grantmaking, Civic, Professional, a...   \n468145  Religious, Grantmaking, Civic, Professional, a...   \n\n             Enterprise_Size  Firms  Establishments  Employment  \\\n447995              1: Total    632             714        9075   \n447996      2: <20 employees    492             498        1719   \n447997    3: 20-99 employees     49              57        1346   \n447998  4: 100-499 employees     18              30         749   \n447999     5: 500+ employees     73             129        5261   \n...                      ...    ...             ...         ...   \n468141     5: 500+ employees     10              10         253   \n468142              1: Total      5               5         212   \n468143     5: 500+ employees      5               5         212   \n468144              1: Total      6               6          48   \n468145     5: 500+ employees      4               4          40   \n\n       Employment_Noise_Flag  Annual_Payroll\\n($1,000)  \\\n447995                     H                    295357   \n447996                     G                     49997   \n447997                     G                     44885   \n447998                     H                     27523   \n447999                     H                    172952   \n...                      ...                       ...   \n468141                     J                     13872   \n468142                     J                      9899   \n468143                     J                      9899   \n468144                     G                      3346   \n468145                     G                      2588   \n\n       Annual_Payroll_Noise_Flag  \n447995                         H  \n447996                         G  \n447997                         H  \n447998                         G  \n447999                         H  \n...                          ...  \n468141                         H  \n468142                         J  \n468143                         J  \n468144                         H  \n468145                         H  \n\n[20151 rows x 13 columns]",
      "text/html": "<div>\n<style scoped>\n    .dataframe tbody tr th:only-of-type {\n        vertical-align: middle;\n    }\n\n    .dataframe tbody tr th {\n        vertical-align: top;\n    }\n\n    .dataframe thead th {\n        text-align: right;\n    }\n</style>\n<table border=\"1\" class=\"dataframe\">\n  <thead>\n    <tr style=\"text-align: right;\">\n      <th></th>\n      <th>State</th>\n      <th>State_Name</th>\n      <th>County</th>\n      <th>County_Name</th>\n      <th>NAICS</th>\n      <th>NAICS_Description</th>\n      <th>Enterprise_Size</th>\n      <th>Firms</th>\n      <th>Establishments</th>\n      <th>Employment</th>\n      <th>Employment_Noise_Flag</th>\n      <th>Annual_Payroll\\n($1,000)</th>\n      <th>Annual_Payroll_Noise_Flag</th>\n    </tr>\n  </thead>\n  <tbody>\n    <tr>\n      <th>447995</th>\n      <td>51</td>\n      <td>Virginia</td>\n      <td>1</td>\n      <td>Accomack</td>\n      <td>--</td>\n      <td>Total</td>\n      <td>1: Total</td>\n      <td>632</td>\n      <td>714</td>\n      <td>9075</td>\n      <td>H</td>\n      <td>295357</td>\n      <td>H</td>\n    </tr>\n    <tr>\n      <th>447996</th>\n      <td>51</td>\n      <td>Virginia</td>\n      <td>1</td>\n      <td>Accomack</td>\n      <td>--</td>\n      <td>Total</td>\n      <td>2: &lt;20 employees</td>\n      <td>492</td>\n      <td>498</td>\n      <td>1719</td>\n      <td>G</td>\n      <td>49997</td>\n      <td>G</td>\n    </tr>\n    <tr>\n      <th>447997</th>\n      <td>51</td>\n      <td>Virginia</td>\n      <td>1</td>\n      <td>Accomack</td>\n      <td>--</td>\n      <td>Total</td>\n      <td>3: 20-99 employees</td>\n      <td>49</td>\n      <td>57</td>\n      <td>1346</td>\n      <td>G</td>\n      <td>44885</td>\n      <td>H</td>\n    </tr>\n    <tr>\n      <th>447998</th>\n      <td>51</td>\n      <td>Virginia</td>\n      <td>1</td>\n      <td>Accomack</td>\n      <td>--</td>\n      <td>Total</td>\n      <td>4: 100-499 employees</td>\n      <td>18</td>\n      <td>30</td>\n      <td>749</td>\n      <td>H</td>\n      <td>27523</td>\n      <td>G</td>\n    </tr>\n    <tr>\n      <th>447999</th>\n      <td>51</td>\n      <td>Virginia</td>\n      <td>1</td>\n      <td>Accomack</td>\n      <td>--</td>\n      <td>Total</td>\n      <td>5: 500+ employees</td>\n      <td>73</td>\n      <td>129</td>\n      <td>5261</td>\n      <td>H</td>\n      <td>172952</td>\n      <td>H</td>\n    </tr>\n    <tr>\n      <th>...</th>\n      <td>...</td>\n      <td>...</td>\n      <td>...</td>\n      <td>...</td>\n      <td>...</td>\n      <td>...</td>\n      <td>...</td>\n      <td>...</td>\n      <td>...</td>\n      <td>...</td>\n      <td>...</td>\n      <td>...</td>\n      <td>...</td>\n    </tr>\n    <tr>\n      <th>468141</th>\n      <td>51</td>\n      <td>Virginia</td>\n      <td>999</td>\n      <td>Statewide Virginia</td>\n      <td>81</td>\n      <td>Other Services (except Public Administration)</td>\n      <td>5: 500+ employees</td>\n      <td>10</td>\n      <td>10</td>\n      <td>253</td>\n      <td>J</td>\n      <td>13872</td>\n      <td>H</td>\n    </tr>\n    <tr>\n      <th>468142</th>\n      <td>51</td>\n      <td>Virginia</td>\n      <td>999</td>\n      <td>Statewide Virginia</td>\n      <td>811</td>\n      <td>Repair and Maintenance</td>\n      <td>1: Total</td>\n      <td>5</td>\n      <td>5</td>\n      <td>212</td>\n      <td>J</td>\n      <td>9899</td>\n      <td>J</td>\n    </tr>\n    <tr>\n      <th>468143</th>\n      <td>51</td>\n      <td>Virginia</td>\n      <td>999</td>\n      <td>Statewide Virginia</td>\n      <td>811</td>\n      <td>Repair and Maintenance</td>\n      <td>5: 500+ employees</td>\n      <td>5</td>\n      <td>5</td>\n      <td>212</td>\n      <td>J</td>\n      <td>9899</td>\n      <td>J</td>\n    </tr>\n    <tr>\n      <th>468144</th>\n      <td>51</td>\n      <td>Virginia</td>\n      <td>999</td>\n      <td>Statewide Virginia</td>\n      <td>813</td>\n      <td>Religious, Grantmaking, Civic, Professional, a...</td>\n      <td>1: Total</td>\n      <td>6</td>\n      <td>6</td>\n      <td>48</td>\n      <td>G</td>\n      <td>3346</td>\n      <td>H</td>\n    </tr>\n    <tr>\n      <th>468145</th>\n      <td>51</td>\n      <td>Virginia</td>\n      <td>999</td>\n      <td>Statewide Virginia</td>\n      <td>813</td>\n      <td>Religious, Grantmaking, Civic, Professional, a...</td>\n      <td>5: 500+ employees</td>\n      <td>4</td>\n      <td>4</td>\n      <td>40</td>\n      <td>G</td>\n      <td>2588</td>\n      <td>H</td>\n    </tr>\n  </tbody>\n</table>\n<p>20151 rows × 13 columns</p>\n</div>"
     },
     "execution_count": 21,
     "metadata": {},
     "output_type": "execute_result"
    }
   ],
   "source": [
    "susb.query('State_Name==\"Virginia\"')"
   ],
   "metadata": {
    "collapsed": false,
    "pycharm": {
     "name": "#%%\n"
    }
   }
  },
  {
   "cell_type": "markdown",
   "source": [],
   "metadata": {
    "collapsed": false,
    "pycharm": {
     "name": "#%% md\n"
    }
   }
  },
  {
   "cell_type": "code",
   "execution_count": 37,
   "outputs": [
    {
     "data": {
      "text/plain": "        State State_Name  County         County_Name NAICS  \\\n447995     51   Virginia       1            Accomack    --   \n448000     51   Virginia       1            Accomack    11   \n448002     51   Virginia       1            Accomack   114   \n448004     51   Virginia       1            Accomack    22   \n448005     51   Virginia       1            Accomack   221   \n...       ...        ...     ...                 ...   ...   \n468134     51   Virginia     999  Statewide Virginia    62   \n468137     51   Virginia     999  Statewide Virginia   621   \n468140     51   Virginia     999  Statewide Virginia    81   \n468142     51   Virginia     999  Statewide Virginia   811   \n468144     51   Virginia     999  Statewide Virginia   813   \n\n                                        NAICS_Description Enterprise_Size  \\\n447995                                              Total        1: Total   \n448000         Agriculture, Forestry, Fishing and Hunting        1: Total   \n448002                      Fishing, Hunting and Trapping        1: Total   \n448004                                          Utilities        1: Total   \n448005                                          Utilities        1: Total   \n...                                                   ...             ...   \n468134                  Health Care and Social Assistance        1: Total   \n468137                    Ambulatory Health Care Services        1: Total   \n468140      Other Services (except Public Administration)        1: Total   \n468142                             Repair and Maintenance        1: Total   \n468144  Religious, Grantmaking, Civic, Professional, a...        1: Total   \n\n        Firms  Establishments  Employment Employment_Noise_Flag  \\\n447995    632             714        9075                     H   \n448000      5               5          20                     J   \n448002      3               3          12                     J   \n448004      4               5          84                     J   \n448005      4               5          84                     J   \n...       ...             ...         ...                   ...   \n468134     16              38        3419                     H   \n468137     15              37        2234                     H   \n468140     12              12         261                     J   \n468142      5               5         212                     J   \n468144      6               6          48                     G   \n\n        Annual_Payroll\\n($1,000) Annual_Payroll_Noise_Flag  \n447995                    295357                         H  \n448000                       923                         H  \n448002                       357                         J  \n448004                      7531                         J  \n448005                      7531                         J  \n...                          ...                       ...  \n468134                    188641                         H  \n468137                    129630                         H  \n468140                     14630                         H  \n468142                      9899                         J  \n468144                      3346                         H  \n\n[7341 rows x 13 columns]",
      "text/html": "<div>\n<style scoped>\n    .dataframe tbody tr th:only-of-type {\n        vertical-align: middle;\n    }\n\n    .dataframe tbody tr th {\n        vertical-align: top;\n    }\n\n    .dataframe thead th {\n        text-align: right;\n    }\n</style>\n<table border=\"1\" class=\"dataframe\">\n  <thead>\n    <tr style=\"text-align: right;\">\n      <th></th>\n      <th>State</th>\n      <th>State_Name</th>\n      <th>County</th>\n      <th>County_Name</th>\n      <th>NAICS</th>\n      <th>NAICS_Description</th>\n      <th>Enterprise_Size</th>\n      <th>Firms</th>\n      <th>Establishments</th>\n      <th>Employment</th>\n      <th>Employment_Noise_Flag</th>\n      <th>Annual_Payroll\\n($1,000)</th>\n      <th>Annual_Payroll_Noise_Flag</th>\n    </tr>\n  </thead>\n  <tbody>\n    <tr>\n      <th>447995</th>\n      <td>51</td>\n      <td>Virginia</td>\n      <td>1</td>\n      <td>Accomack</td>\n      <td>--</td>\n      <td>Total</td>\n      <td>1: Total</td>\n      <td>632</td>\n      <td>714</td>\n      <td>9075</td>\n      <td>H</td>\n      <td>295357</td>\n      <td>H</td>\n    </tr>\n    <tr>\n      <th>448000</th>\n      <td>51</td>\n      <td>Virginia</td>\n      <td>1</td>\n      <td>Accomack</td>\n      <td>11</td>\n      <td>Agriculture, Forestry, Fishing and Hunting</td>\n      <td>1: Total</td>\n      <td>5</td>\n      <td>5</td>\n      <td>20</td>\n      <td>J</td>\n      <td>923</td>\n      <td>H</td>\n    </tr>\n    <tr>\n      <th>448002</th>\n      <td>51</td>\n      <td>Virginia</td>\n      <td>1</td>\n      <td>Accomack</td>\n      <td>114</td>\n      <td>Fishing, Hunting and Trapping</td>\n      <td>1: Total</td>\n      <td>3</td>\n      <td>3</td>\n      <td>12</td>\n      <td>J</td>\n      <td>357</td>\n      <td>J</td>\n    </tr>\n    <tr>\n      <th>448004</th>\n      <td>51</td>\n      <td>Virginia</td>\n      <td>1</td>\n      <td>Accomack</td>\n      <td>22</td>\n      <td>Utilities</td>\n      <td>1: Total</td>\n      <td>4</td>\n      <td>5</td>\n      <td>84</td>\n      <td>J</td>\n      <td>7531</td>\n      <td>J</td>\n    </tr>\n    <tr>\n      <th>448005</th>\n      <td>51</td>\n      <td>Virginia</td>\n      <td>1</td>\n      <td>Accomack</td>\n      <td>221</td>\n      <td>Utilities</td>\n      <td>1: Total</td>\n      <td>4</td>\n      <td>5</td>\n      <td>84</td>\n      <td>J</td>\n      <td>7531</td>\n      <td>J</td>\n    </tr>\n    <tr>\n      <th>...</th>\n      <td>...</td>\n      <td>...</td>\n      <td>...</td>\n      <td>...</td>\n      <td>...</td>\n      <td>...</td>\n      <td>...</td>\n      <td>...</td>\n      <td>...</td>\n      <td>...</td>\n      <td>...</td>\n      <td>...</td>\n      <td>...</td>\n    </tr>\n    <tr>\n      <th>468134</th>\n      <td>51</td>\n      <td>Virginia</td>\n      <td>999</td>\n      <td>Statewide Virginia</td>\n      <td>62</td>\n      <td>Health Care and Social Assistance</td>\n      <td>1: Total</td>\n      <td>16</td>\n      <td>38</td>\n      <td>3419</td>\n      <td>H</td>\n      <td>188641</td>\n      <td>H</td>\n    </tr>\n    <tr>\n      <th>468137</th>\n      <td>51</td>\n      <td>Virginia</td>\n      <td>999</td>\n      <td>Statewide Virginia</td>\n      <td>621</td>\n      <td>Ambulatory Health Care Services</td>\n      <td>1: Total</td>\n      <td>15</td>\n      <td>37</td>\n      <td>2234</td>\n      <td>H</td>\n      <td>129630</td>\n      <td>H</td>\n    </tr>\n    <tr>\n      <th>468140</th>\n      <td>51</td>\n      <td>Virginia</td>\n      <td>999</td>\n      <td>Statewide Virginia</td>\n      <td>81</td>\n      <td>Other Services (except Public Administration)</td>\n      <td>1: Total</td>\n      <td>12</td>\n      <td>12</td>\n      <td>261</td>\n      <td>J</td>\n      <td>14630</td>\n      <td>H</td>\n    </tr>\n    <tr>\n      <th>468142</th>\n      <td>51</td>\n      <td>Virginia</td>\n      <td>999</td>\n      <td>Statewide Virginia</td>\n      <td>811</td>\n      <td>Repair and Maintenance</td>\n      <td>1: Total</td>\n      <td>5</td>\n      <td>5</td>\n      <td>212</td>\n      <td>J</td>\n      <td>9899</td>\n      <td>J</td>\n    </tr>\n    <tr>\n      <th>468144</th>\n      <td>51</td>\n      <td>Virginia</td>\n      <td>999</td>\n      <td>Statewide Virginia</td>\n      <td>813</td>\n      <td>Religious, Grantmaking, Civic, Professional, a...</td>\n      <td>1: Total</td>\n      <td>6</td>\n      <td>6</td>\n      <td>48</td>\n      <td>G</td>\n      <td>3346</td>\n      <td>H</td>\n    </tr>\n  </tbody>\n</table>\n<p>7341 rows × 13 columns</p>\n</div>"
     },
     "execution_count": 37,
     "metadata": {},
     "output_type": "execute_result"
    }
   ],
   "source": [
    "susb.query('State_Name==\"Virginia\"& Enterprise_Size==\"1: Total\"')"
   ],
   "metadata": {
    "collapsed": false,
    "pycharm": {
     "name": "#%%\n"
    }
   }
  }
 ],
 "metadata": {
  "kernelspec": {
   "display_name": "Python 3",
   "language": "python",
   "name": "python3"
  },
  "language_info": {
   "codemirror_mode": {
    "name": "ipython",
    "version": 2
   },
   "file_extension": ".py",
   "mimetype": "text/x-python",
   "name": "python",
   "nbconvert_exporter": "python",
   "pygments_lexer": "ipython2",
   "version": "2.7.6"
  }
 },
 "nbformat": 4,
 "nbformat_minor": 0
}